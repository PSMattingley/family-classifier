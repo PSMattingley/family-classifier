{
  "nbformat": 4,
  "nbformat_minor": 0,
  "metadata": {
    "colab": {
      "name": "speak-out-eda.ipynb",
      "provenance": [],
      "mount_file_id": "1q-zTHdyNCb_GyFFCjuzxqHnKuBd-1BcF",
      "authorship_tag": "ABX9TyNlr7S+NqZA1pQe5g4AkjM8",
      "include_colab_link": true
    },
    "kernelspec": {
      "name": "python3",
      "display_name": "Python 3"
    }
  },
  "cells": [
    {
      "cell_type": "markdown",
      "metadata": {
        "id": "view-in-github",
        "colab_type": "text"
      },
      "source": [
        "<a href=\"https://colab.research.google.com/github/PSMattingley/family-classifier/blob/master/speak_out_eda.ipynb\" target=\"_parent\"><img src=\"https://colab.research.google.com/assets/colab-badge.svg\" alt=\"Open In Colab\"/></a>"
      ]
    },
    {
      "cell_type": "code",
      "metadata": {
        "id": "wEJsWQ8U-glH"
      },
      "source": [
        "import pandas as pd\n",
        "import seaborn as sns\n",
        "import matplotlib.pyplot as plt\n",
        "import os "
      ],
      "execution_count": 7,
      "outputs": []
    },
    {
      "cell_type": "markdown",
      "metadata": {
        "id": "6QvG1Yd6BCRT"
      },
      "source": [
        "**1. Read and inspect data format**"
      ]
    },
    {
      "cell_type": "code",
      "metadata": {
        "id": "wfin0-2p_4VO",
        "outputId": "68721c91-7a3b-4a81-8748-6e56565b7999",
        "colab": {
          "base_uri": "https://localhost:8080/",
          "height": 870
        }
      },
      "source": [
        "path = '/content/drive/My Drive/Speak-Out'\n",
        "survey = 'The Speak Out Survey v0.1.0 (Responses) - Form responses 1.csv'\n",
        "survey_data = pd.read_csv(os.path.join(path, survey))\n",
        "survey_data.head()"
      ],
      "execution_count": 61,
      "outputs": [
        {
          "output_type": "execute_result",
          "data": {
            "text/html": [
              "<div>\n",
              "<style scoped>\n",
              "    .dataframe tbody tr th:only-of-type {\n",
              "        vertical-align: middle;\n",
              "    }\n",
              "\n",
              "    .dataframe tbody tr th {\n",
              "        vertical-align: top;\n",
              "    }\n",
              "\n",
              "    .dataframe thead th {\n",
              "        text-align: right;\n",
              "    }\n",
              "</style>\n",
              "<table border=\"1\" class=\"dataframe\">\n",
              "  <thead>\n",
              "    <tr style=\"text-align: right;\">\n",
              "      <th></th>\n",
              "      <th>Timestamp</th>\n",
              "      <th>Are you ready to start The Speak Out Survey?</th>\n",
              "      <th>What sector were you working in at the time you experienced harassment and bullying?</th>\n",
              "      <th>Where in the UK were you primarily working at the time you experienced the harassment and bullying?</th>\n",
              "      <th>What company were you working for when you experienced the harassment and bullying?</th>\n",
              "      <th>Did your experience involve any of the following behaviours?</th>\n",
              "      <th>Did you feel that the behaviours you experienced were associated with any of the following?</th>\n",
              "      <th>Did your experience involve any of the following behaviours? .1</th>\n",
              "      <th>What was the primary method of delivery for your harassment and bullying?</th>\n",
              "      <th>When do you first recall experiencing the harassment and bullying described?</th>\n",
              "      <th>When do you last recall experiencing the harassment and bullying described?</th>\n",
              "      <th>Who was responsible for your harassment and bullying?</th>\n",
              "      <th>What was the gender of the person responsible for your harassment and bullying?</th>\n",
              "      <th>How many other employees have been impacted by this person's behaviour? [I'm personally aware of]</th>\n",
              "      <th>Did you (or someone else) make your employer aware of the unfair treatment you were receiving?</th>\n",
              "      <th>When did your employer first become formally aware of the harassment and bullying described?</th>\n",
              "      <th>Who did you make aware in the first instance?</th>\n",
              "      <th>What was the outcome of reporting?</th>\n",
              "      <th>How did reporting deliver this outcome?</th>\n",
              "      <th>How satisfied were you with how your company handled and resolved your complaint?</th>\n",
              "      <th>What factors influenced your level of satisfaction?</th>\n",
              "      <th>If appropriate, did you report the experience to the police?</th>\n",
              "      <th>When did your employer first become informally aware of the harassment and bullying described?</th>\n",
              "      <th>During the period of time in which you experienced unfair treatment, who else was aware that you were receiving it?</th>\n",
              "      <th>What was the outcome of reporting?.1</th>\n",
              "      <th>How did reporting deliver this outcome? .1</th>\n",
              "      <th>How satisfied were you with how your company handled and resolved your complaint?.1</th>\n",
              "      <th>What factors influenced your level of satisfaction?.1</th>\n",
              "      <th>If appropriate, did you report the experience to the police?.1</th>\n",
              "      <th>What influenced your decision to not make your employer aware of the unfair treatment you were receiving?</th>\n",
              "      <th>During the period of time in which you experienced unfair treatment, who else was aware that you were receiving it?.1</th>\n",
              "      <th>Did you report the experience, or part of the experience, to the police?</th>\n",
              "      <th>How did the experience impact your working life?</th>\n",
              "      <th>Did you leave the company as a direct consequence of your experience?</th>\n",
              "      <th>What were the longer term impacts of your experience, if any?</th>\n",
              "      <th>If you are comfortable sharing, please use this section to describe your experience in your own words.</th>\n",
              "      <th>May we use your words in future materials that support the Speak Out Revolution mission?</th>\n",
              "      <th>What is your age?</th>\n",
              "      <th>How would you describe your gender?</th>\n",
              "      <th>How would you describe your sexuality?</th>\n",
              "      <th>What ethnic group best describes you?</th>\n",
              "      <th>Are your day-to-day activities limited because of a health issue or disability which has lasted, or is expected to last, at least 12 months?</th>\n",
              "      <th>Do you regard yourself as belonging to any particular religion?</th>\n",
              "      <th>What is your current marital or relationship status?</th>\n",
              "      <th>During the period of time in which you experienced unfair treatment, who else was aware that you were receiving it?.2</th>\n",
              "      <th>Who did you make aware in the first instance?.1</th>\n",
              "      <th>Did you enter into any contract which limits your freedom to speak out about your experience?</th>\n",
              "      <th>Did you enter into any contract which limits your freedom to speak out about your experience?.1</th>\n",
              "    </tr>\n",
              "  </thead>\n",
              "  <tbody>\n",
              "    <tr>\n",
              "      <th>0</th>\n",
              "      <td>11/11/2020 15:08:16</td>\n",
              "      <td>Yes</td>\n",
              "      <td>Engineering and manufacturing</td>\n",
              "      <td>South East</td>\n",
              "      <td>AWE</td>\n",
              "      <td>Aggressive yelling or shouting, Inappropriatel...</td>\n",
              "      <td>Your sex</td>\n",
              "      <td>Unwanted or derogatory comments (about your cl...</td>\n",
              "      <td>Face-to-face, With witnesses present</td>\n",
              "      <td>01/06/2014</td>\n",
              "      <td>11/06/2016</td>\n",
              "      <td>A direct manager or someone else with direct a...</td>\n",
              "      <td>Male</td>\n",
              "      <td>3</td>\n",
              "      <td>Yes. A concern or complaint was informally rai...</td>\n",
              "      <td>01/03/2016</td>\n",
              "      <td>Someone in my management chain who was not my ...</td>\n",
              "      <td>Reporting led to the experience becoming worse</td>\n",
              "      <td>I was moved roles and/or teams, I was dismisse...</td>\n",
              "      <td>3</td>\n",
              "      <td>How appropriate the resolution was</td>\n",
              "      <td>No - However, it would not have been appropriate</td>\n",
              "      <td>NaN</td>\n",
              "      <td>NaN</td>\n",
              "      <td>NaN</td>\n",
              "      <td>NaN</td>\n",
              "      <td>NaN</td>\n",
              "      <td>NaN</td>\n",
              "      <td>NaN</td>\n",
              "      <td>NaN</td>\n",
              "      <td>NaN</td>\n",
              "      <td>NaN</td>\n",
              "      <td>I avoided certain locations, meetings, colleag...</td>\n",
              "      <td>Yes</td>\n",
              "      <td>Not happy</td>\n",
              "      <td>It was very bad and i am not happy about it.</td>\n",
              "      <td>Yes</td>\n",
              "      <td>25 - 34 years old</td>\n",
              "      <td>Female</td>\n",
              "      <td>Heterosexual</td>\n",
              "      <td>English / Welsh / Scottish / Northern Irish / ...</td>\n",
              "      <td>No</td>\n",
              "      <td>No, I do not regard myself as belonging to any...</td>\n",
              "      <td>Living with a partner, but neither married nor...</td>\n",
              "      <td>NaN</td>\n",
              "      <td>NaN</td>\n",
              "      <td>NaN</td>\n",
              "      <td>NaN</td>\n",
              "    </tr>\n",
              "    <tr>\n",
              "      <th>1</th>\n",
              "      <td>11/11/2020 17:05:44</td>\n",
              "      <td>Yes</td>\n",
              "      <td>Information technology</td>\n",
              "      <td>North East</td>\n",
              "      <td>jnkjn</td>\n",
              "      <td>Aggressive yelling or shouting, Unwarranted ph...</td>\n",
              "      <td>Your disability, Your gender reassignment</td>\n",
              "      <td>Invasion of your personal space, Unwelcome sex...</td>\n",
              "      <td>Outside my place of work, Face-to-face</td>\n",
              "      <td>13/11/2020</td>\n",
              "      <td>13/11/2020</td>\n",
              "      <td>A direct manager or someone else with direct a...</td>\n",
              "      <td>Male</td>\n",
              "      <td>4</td>\n",
              "      <td>Yes. A concern or complaint was informally rai...</td>\n",
              "      <td>12/11/2020</td>\n",
              "      <td>Someone in my management chain who was not my ...</td>\n",
              "      <td>Reporting led to a partial resolution</td>\n",
              "      <td>My mental health deteriorated owing to the rep...</td>\n",
              "      <td>10</td>\n",
              "      <td>How fairly my complaint was handled</td>\n",
              "      <td>Yes</td>\n",
              "      <td>NaN</td>\n",
              "      <td>NaN</td>\n",
              "      <td>NaN</td>\n",
              "      <td>NaN</td>\n",
              "      <td>NaN</td>\n",
              "      <td>NaN</td>\n",
              "      <td>NaN</td>\n",
              "      <td>NaN</td>\n",
              "      <td>NaN</td>\n",
              "      <td>NaN</td>\n",
              "      <td>It negatively affected my work performance and...</td>\n",
              "      <td>Yes</td>\n",
              "      <td>kzdjvs kjz n</td>\n",
              "      <td>njknkj</td>\n",
              "      <td>Yes</td>\n",
              "      <td>55 + years old</td>\n",
              "      <td>Transgender female</td>\n",
              "      <td>Heterosexual</td>\n",
              "      <td>White and Black Caribbean</td>\n",
              "      <td>Yes, limited a little</td>\n",
              "      <td>Prefer not to say</td>\n",
              "      <td>Married</td>\n",
              "      <td>My line manager, Someone in my management chai...</td>\n",
              "      <td>NaN</td>\n",
              "      <td>NaN</td>\n",
              "      <td>NaN</td>\n",
              "    </tr>\n",
              "    <tr>\n",
              "      <th>2</th>\n",
              "      <td>13/11/2020 11:39:41</td>\n",
              "      <td>Yes</td>\n",
              "      <td>Science and pharmaceuticals</td>\n",
              "      <td>South East</td>\n",
              "      <td>tt</td>\n",
              "      <td>Negative comments about your appearance, lifes...</td>\n",
              "      <td>Your sex</td>\n",
              "      <td>Unwanted or derogatory comments (about your cl...</td>\n",
              "      <td>Face-to-face, Without witnesses present</td>\n",
              "      <td>01/01/2013</td>\n",
              "      <td>01/01/2015</td>\n",
              "      <td>A colleague</td>\n",
              "      <td>Male</td>\n",
              "      <td>0</td>\n",
              "      <td>Yes. A concern or complaint was informally rai...</td>\n",
              "      <td>01/01/2014</td>\n",
              "      <td>My line manager</td>\n",
              "      <td>Reporting led to no change</td>\n",
              "      <td>I was moved roles and/or teams, I was dismisse...</td>\n",
              "      <td>0</td>\n",
              "      <td>How quickly my complaint was handled, How seri...</td>\n",
              "      <td>No - However, it would not have been appropriate</td>\n",
              "      <td>NaN</td>\n",
              "      <td>NaN</td>\n",
              "      <td>NaN</td>\n",
              "      <td>NaN</td>\n",
              "      <td>NaN</td>\n",
              "      <td>NaN</td>\n",
              "      <td>NaN</td>\n",
              "      <td>NaN</td>\n",
              "      <td>NaN</td>\n",
              "      <td>NaN</td>\n",
              "      <td>It negatively affected my confidence, It negat...</td>\n",
              "      <td>No</td>\n",
              "      <td>-</td>\n",
              "      <td>-</td>\n",
              "      <td>Yes</td>\n",
              "      <td>25 - 34 years old</td>\n",
              "      <td>Female</td>\n",
              "      <td>Heterosexual</td>\n",
              "      <td>English / Welsh / Scottish / Northern Irish / ...</td>\n",
              "      <td>Yes, limited a little</td>\n",
              "      <td>No, I do not regard myself as belonging to any...</td>\n",
              "      <td>Living with a partner, but neither married nor...</td>\n",
              "      <td>My line manager, Friends</td>\n",
              "      <td>NaN</td>\n",
              "      <td>NaN</td>\n",
              "      <td>No</td>\n",
              "    </tr>\n",
              "    <tr>\n",
              "      <th>3</th>\n",
              "      <td>13/11/2020 11:51:52</td>\n",
              "      <td>Yes</td>\n",
              "      <td>Engineering and manufacturing</td>\n",
              "      <td>South East</td>\n",
              "      <td>aa</td>\n",
              "      <td>Purposefully excluding, isolating, or marginal...</td>\n",
              "      <td>Your sex</td>\n",
              "      <td>None of the above</td>\n",
              "      <td>Exclusion, so no delivery method</td>\n",
              "      <td>01/07/2017</td>\n",
              "      <td>13/11/2020</td>\n",
              "      <td>A direct manager or someone else with direct a...</td>\n",
              "      <td>Male</td>\n",
              "      <td>1</td>\n",
              "      <td>Yes. A concern or complaint was formally raise...</td>\n",
              "      <td>01/02/2018</td>\n",
              "      <td>Someone in my management chain who was not my ...</td>\n",
              "      <td>Reporting led to the experience becoming much ...</td>\n",
              "      <td>I was moved roles and/or teams, My physical he...</td>\n",
              "      <td>0</td>\n",
              "      <td>How quickly my complaint was handled, How seri...</td>\n",
              "      <td>No - However, it would not have been appropriate</td>\n",
              "      <td>NaN</td>\n",
              "      <td>NaN</td>\n",
              "      <td>NaN</td>\n",
              "      <td>NaN</td>\n",
              "      <td>NaN</td>\n",
              "      <td>NaN</td>\n",
              "      <td>NaN</td>\n",
              "      <td>NaN</td>\n",
              "      <td>NaN</td>\n",
              "      <td>NaN</td>\n",
              "      <td>I have taken time off work as a consequence, I...</td>\n",
              "      <td>No</td>\n",
              "      <td>-</td>\n",
              "      <td>NaN</td>\n",
              "      <td>Yes</td>\n",
              "      <td>25 - 34 years old</td>\n",
              "      <td>Female</td>\n",
              "      <td>Heterosexual</td>\n",
              "      <td>English / Welsh / Scottish / Northern Irish / ...</td>\n",
              "      <td>Yes, limited a little</td>\n",
              "      <td>No, I do not regard myself as belonging to any...</td>\n",
              "      <td>Living with a partner, but neither married nor...</td>\n",
              "      <td>My line manager, Someone in my management chai...</td>\n",
              "      <td>NaN</td>\n",
              "      <td>NaN</td>\n",
              "      <td>No</td>\n",
              "    </tr>\n",
              "    <tr>\n",
              "      <th>4</th>\n",
              "      <td>13/11/2020 12:08:00</td>\n",
              "      <td>Yes</td>\n",
              "      <td>Healthcare</td>\n",
              "      <td>South East</td>\n",
              "      <td>Ambulance service</td>\n",
              "      <td>None of the above, Gaslighting, microaggressio...</td>\n",
              "      <td>Your disability</td>\n",
              "      <td>None of the above</td>\n",
              "      <td>Outside my place of work, With witnesses present</td>\n",
              "      <td>01/01/2016</td>\n",
              "      <td>01/01/2017</td>\n",
              "      <td>A direct manager or someone else with direct a...</td>\n",
              "      <td>Female</td>\n",
              "      <td>0</td>\n",
              "      <td>Yes. A concern or complaint was formally raise...</td>\n",
              "      <td>01/04/2016</td>\n",
              "      <td>Someone in my management chain who was not my ...</td>\n",
              "      <td>Reporting led to no change</td>\n",
              "      <td>I was dismissed/ not believed/ ignored, My men...</td>\n",
              "      <td>0</td>\n",
              "      <td>How seriously my complaint was taken, How sens...</td>\n",
              "      <td>No - However, it would not have been appropriate</td>\n",
              "      <td>NaN</td>\n",
              "      <td>NaN</td>\n",
              "      <td>NaN</td>\n",
              "      <td>NaN</td>\n",
              "      <td>NaN</td>\n",
              "      <td>NaN</td>\n",
              "      <td>NaN</td>\n",
              "      <td>NaN</td>\n",
              "      <td>NaN</td>\n",
              "      <td>NaN</td>\n",
              "      <td>I have taken time off work as a consequence, I...</td>\n",
              "      <td>Yes</td>\n",
              "      <td>Know what want from an employer. Affected conf...</td>\n",
              "      <td>Some details.</td>\n",
              "      <td>No</td>\n",
              "      <td>25 - 34 years old</td>\n",
              "      <td>Female</td>\n",
              "      <td>Bisexual</td>\n",
              "      <td>English / Welsh / Scottish / Northern Irish / ...</td>\n",
              "      <td>Yes, limited a lot</td>\n",
              "      <td>Christianity</td>\n",
              "      <td>Living with a partner, but neither married nor...</td>\n",
              "      <td>My union representative, Friends, Family membe...</td>\n",
              "      <td>NaN</td>\n",
              "      <td>NaN</td>\n",
              "      <td>No</td>\n",
              "    </tr>\n",
              "  </tbody>\n",
              "</table>\n",
              "</div>"
            ],
            "text/plain": [
              "             Timestamp  ... Did you enter into any contract which limits your freedom to speak out about your experience?.1\n",
              "0  11/11/2020 15:08:16  ...                                                NaN                                             \n",
              "1  11/11/2020 17:05:44  ...                                                NaN                                             \n",
              "2  13/11/2020 11:39:41  ...                                                 No                                             \n",
              "3  13/11/2020 11:51:52  ...                                                 No                                             \n",
              "4  13/11/2020 12:08:00  ...                                                 No                                             \n",
              "\n",
              "[5 rows x 48 columns]"
            ]
          },
          "metadata": {
            "tags": []
          },
          "execution_count": 61
        }
      ]
    },
    {
      "cell_type": "code",
      "metadata": {
        "id": "w_rQeLR2AQqU"
      },
      "source": [
        "questions = survey_data.columns.tolist()"
      ],
      "execution_count": 50,
      "outputs": []
    },
    {
      "cell_type": "code",
      "metadata": {
        "id": "PrIYJiE2BXQk"
      },
      "source": [
        "# Rename Columns\n",
        "survey_data_rn = survey_data.rename(columns={'What sector were you working in at the time you experienced harassment and bullying?': 'Sector',\n",
        "                            'How satisfied were you with how your company handled and resolved your complaint?': 'Resolution-Satisfaction'})"
      ],
      "execution_count": 66,
      "outputs": []
    },
    {
      "cell_type": "code",
      "metadata": {
        "id": "ax6bXrUrIfqo",
        "outputId": "5dfbaa90-937c-49f0-e556-0007829c6b88",
        "colab": {
          "base_uri": "https://localhost:8080/"
        }
      },
      "source": [
        "survey_data_rn.dtypes"
      ],
      "execution_count": 67,
      "outputs": [
        {
          "output_type": "execute_result",
          "data": {
            "text/plain": [
              "Timestamp                                                                                                                                        object\n",
              "Are you ready to start The Speak Out Survey?                                                                                                     object\n",
              "Sector                                                                                                                                           object\n",
              "Where in the UK were you primarily working at the time you experienced the harassment and bullying?                                              object\n",
              "What company were you working for when you experienced the harassment and bullying?                                                              object\n",
              "Did your experience involve any of the following behaviours?                                                                                     object\n",
              "Did you feel that the behaviours you experienced were associated with any of the following?                                                      object\n",
              "Did your experience involve any of the following behaviours? .1                                                                                  object\n",
              "What was the primary method of delivery for your harassment and bullying?                                                                        object\n",
              "When do you first recall experiencing the harassment and bullying described?                                                                     object\n",
              "When do you last recall experiencing the harassment and bullying described?                                                                      object\n",
              "Who was responsible for your harassment and bullying?                                                                                            object\n",
              "What was the gender of the person responsible for your harassment and bullying?                                                                  object\n",
              "How many other employees have been impacted by this person's behaviour? [I'm personally aware of]                                                 int64\n",
              "Did you (or someone else) make your employer aware of the unfair treatment you were receiving?                                                   object\n",
              "When did your employer first become formally aware of the harassment and bullying described?                                                     object\n",
              "Who did you make aware in the first instance?                                                                                                    object\n",
              "What was the outcome of reporting?                                                                                                               object\n",
              "How did reporting deliver this outcome?                                                                                                          object\n",
              "Resolution-Satisfaction                                                                                                                           int64\n",
              "What factors influenced your level of satisfaction?                                                                                              object\n",
              "If appropriate, did you report the experience to the police?                                                                                     object\n",
              "When did your employer first become informally aware of the harassment and bullying described?                                                  float64\n",
              "During the period of time in which you experienced unfair treatment, who else was aware that you were receiving it?                             float64\n",
              "What was the outcome of reporting?.1                                                                                                            float64\n",
              "How did reporting deliver this outcome? .1                                                                                                      float64\n",
              "How satisfied were you with how your company handled and resolved your complaint?.1                                                             float64\n",
              "What factors influenced your level of satisfaction?.1                                                                                           float64\n",
              "If appropriate, did you report the experience to the police?.1                                                                                  float64\n",
              "What influenced your decision to not make your employer aware of the unfair treatment you were receiving?                                       float64\n",
              "During the period of time in which you experienced unfair treatment, who else was aware that you were receiving it?.1                           float64\n",
              "Did you report the experience, or part of the experience, to the police?                                                                        float64\n",
              "How did the experience impact your working life?                                                                                                 object\n",
              "Did you leave the company as a direct consequence of your experience?                                                                            object\n",
              "What were the longer term impacts of your experience, if any?                                                                                    object\n",
              "If you are comfortable sharing, please use this section to describe your experience in your own words.                                           object\n",
              "May we use your words in future materials that support the Speak Out Revolution mission?                                                         object\n",
              "What is your age?                                                                                                                                object\n",
              "How would you describe your gender?                                                                                                              object\n",
              "How would you describe your sexuality?                                                                                                           object\n",
              "What ethnic group best describes you?                                                                                                            object\n",
              "Are your day-to-day activities limited because of a health issue or disability which has lasted, or is expected to last, at least 12 months?     object\n",
              "Do you regard yourself as belonging to any particular religion?                                                                                  object\n",
              "What is your current marital or relationship status?                                                                                             object\n",
              "During the period of time in which you experienced unfair treatment, who else was aware that you were receiving it?.2                            object\n",
              "Who did you make aware in the first instance?.1                                                                                                 float64\n",
              "Did you enter into any contract which limits your freedom to speak out about your experience?                                                   float64\n",
              "Did you enter into any contract which limits your freedom to speak out about your experience?.1                                                  object\n",
              "dtype: object"
            ]
          },
          "metadata": {
            "tags": []
          },
          "execution_count": 67
        }
      ]
    },
    {
      "cell_type": "code",
      "metadata": {
        "id": "eJD6YWYrIjxO",
        "outputId": "404ef827-91bf-46a2-be5c-5f64f6e4a3e9",
        "colab": {
          "base_uri": "https://localhost:8080/"
        }
      },
      "source": [
        "survey_data_rn.dtypes.value_counts()"
      ],
      "execution_count": 49,
      "outputs": [
        {
          "output_type": "execute_result",
          "data": {
            "text/plain": [
              "object     34\n",
              "float64    12\n",
              "int64       2\n",
              "dtype: int64"
            ]
          },
          "metadata": {
            "tags": []
          },
          "execution_count": 49
        }
      ]
    },
    {
      "cell_type": "code",
      "metadata": {
        "id": "wsTBJ8IgIzRy"
      },
      "source": [
        "# Convert time responses to datetime\n",
        "survey_data_rn['Timestamp'] = pd.to_datetime(survey_data['Timestamp'])"
      ],
      "execution_count": 70,
      "outputs": []
    },
    {
      "cell_type": "markdown",
      "metadata": {
        "id": "zvy0vjp1BYKm"
      },
      "source": [
        "**2. Example Plots**"
      ]
    },
    {
      "cell_type": "code",
      "metadata": {
        "id": "dLnwbZXxBb9F",
        "outputId": "4f83d88e-c21a-48bc-aeaf-312ab9c7618f",
        "colab": {
          "base_uri": "https://localhost:8080/",
          "height": 526
        }
      },
      "source": [
        "from matplotlib.ticker import MaxNLocator\n",
        "\n",
        "plt.figure(figsize=(16,8))\n",
        "title = 'Responses by Sector'\n",
        "sns.set(font_scale=1.25)\n",
        "p = sns.countplot(data=survey_data_rn, x=\"Sector\")\n",
        "p.set_title(title)\n",
        "p.yaxis.set_major_locator(MaxNLocator(integer=True))\n",
        "plt.show()"
      ],
      "execution_count": 68,
      "outputs": [
        {
          "output_type": "display_data",
          "data": {
            "image/png": "[encoded data removed]",
            "text/plain": [
              "<Figure size 1152x576 with 1 Axes>"
            ]
          },
          "metadata": {
            "tags": []
          }
        }
      ]
    },
    {
      "cell_type": "code",
      "metadata": {
        "id": "gugnP6vCHskO",
        "outputId": "301889ea-8594-4880-ff6c-03752f6ae6f2",
        "colab": {
          "base_uri": "https://localhost:8080/",
          "height": 526
        }
      },
      "source": [
        "plt.figure(figsize=(16,8))\n",
        "title = 'Responses by Time'\n",
        "sns.set(font_scale=1.25)\n",
        "p = sns.lineplot(x=survey_data_rn['Timestamp'], y=survey_data_rn.index)\n",
        "p.set_title(title)\n",
        "p.yaxis.set_major_locator(MaxNLocator(integer=True))\n",
        "plt.show()\n",
        "\n"
      ],
      "execution_count": 71,
      "outputs": [
        {
          "output_type": "display_data",
          "data": {
            "image/png": "[encoded data removed]",
            "text/plain": [
              "<Figure size 1152x576 with 1 Axes>"
            ]
          },
          "metadata": {
            "tags": []
          }
        }
      ]
    },
    {
      "cell_type": "code",
      "metadata": {
        "id": "yEF_P8eULjXO",
        "outputId": "fe3bce12-2cdd-4034-ce02-5697348865f4",
        "colab": {
          "base_uri": "https://localhost:8080/",
          "height": 526
        }
      },
      "source": [
        "plt.figure(figsize=(16,8))\n",
        "title = 'Resolution Satisfaction Distribution'\n",
        "sns.set(font_scale=1.25)\n",
        "p = sns.histplot(survey_data_rn['Resolution-Satisfaction'], kde=True, binwidth=1)\n",
        "p.set_title(title)\n",
        "p.yaxis.set_major_locator(MaxNLocator(integer=True))\n",
        "plt.show()\n"
      ],
      "execution_count": 78,
      "outputs": [
        {
          "output_type": "display_data",
          "data": {
            "image/png": "[encoded data removed]",
            "text/plain": [
              "<Figure size 1152x576 with 1 Axes>"
            ]
          },
          "metadata": {
            "tags": []
          }
        }
      ]
    }
  ]
}